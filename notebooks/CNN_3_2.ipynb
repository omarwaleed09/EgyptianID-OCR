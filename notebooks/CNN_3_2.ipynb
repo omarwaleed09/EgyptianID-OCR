{
 "cells": [
  {
   "cell_type": "code",
   "execution_count": 1,
   "id": "7dcbf509-1a84-4837-8572-3ea490025dcd",
   "metadata": {},
   "outputs": [],
   "source": [
    "import tensorflow as tf\n",
    "from tensorflow.keras import layers, models\n",
    "import os\n",
    "import numpy as np\n",
    "import mapping\n",
    "from tensorflow.keras.preprocessing import image\n",
    "import splitfolders\n",
    "import matplotlib.pyplot as plt\n",
    "from tensorflow.keras.utils import register_keras_serializable\n",
    "from custom_layers.MinPooling import MinPooling2D"
   ]
  },
  {
   "cell_type": "code",
   "execution_count": 2,
   "id": "25f1d73a-bdfb-43bf-8398-81ef90aa1a50",
   "metadata": {},
   "outputs": [],
   "source": [
    "label_map_marital_status={\n",
    "    \"single_m\": \"أعزب\",\n",
    "    \"single_f\": \"أنسة\",\n",
    "    \"married_m\": \"متزوج\",\n",
    "    \"married_f\": \"متزوجة\",\n",
    "    \"widow\": \"أرملة\",\n",
    "    \"widower\": \"أرمل\",\n",
    "}"
   ]
  },
  {
   "cell_type": "code",
   "execution_count": 8,
   "id": "3db84437-7851-409a-9a3b-eb1a8dc76d63",
   "metadata": {},
   "outputs": [
    {
     "name": "stdout",
     "output_type": "stream",
     "text": [
      "Found 2895 files belonging to 6 classes.\n",
      "Found 783 files belonging to 6 classes.\n",
      "Found 459 files belonging to 6 classes.\n",
      "Classes: ['married_f', 'married_m', 'single_f', 'single_m', 'widow', 'widower']\n"
     ]
    }
   ],
   "source": [
    "img_size = (64, 64)\n",
    "batch_size = 32\n",
    "\n",
    "Marital_status_train_ds = tf.keras.utils.image_dataset_from_directory(\n",
    "    r\"..\\data\\dataset_cnn_2\\data\\Marital status\\train\",\n",
    "    image_size=img_size,\n",
    "    batch_size=batch_size,\n",
    "    label_mode=\"categorical\"\n",
    ")\n",
    "\n",
    "Marital_status_val_ds = tf.keras.utils.image_dataset_from_directory(\n",
    "    r\"..\\data\\dataset_cnn_2\\data\\Marital status\\val\",\n",
    "    image_size=img_size,\n",
    "    batch_size=batch_size,\n",
    "    label_mode=\"categorical\"\n",
    ")\n",
    "\n",
    "Marital_status_test_ds = tf.keras.utils.image_dataset_from_directory(\n",
    "    r\"..\\data\\dataset_cnn_2\\data\\Marital status\\test\",\n",
    "    image_size=img_size,\n",
    "    batch_size=batch_size,\n",
    "    label_mode=\"categorical\"\n",
    ")\n",
    "\n",
    "\n",
    "normalization_layer = tf.keras.layers.Rescaling(1./255)\n",
    "\n",
    "class_names_Marital_status = Marital_status_train_ds.class_names\n",
    "print(\"Classes:\", class_names_Marital_status)\n",
    "num_classes = len(class_names_Marital_status)\n",
    "\n",
    "Marital_status_train_ds = Marital_status_train_ds.map(lambda x, y: (normalization_layer(x), y))\n",
    "Marital_status_val_ds = Marital_status_val_ds.map(lambda x, y: (normalization_layer(x), y))\n",
    "Marital_status_test_ds = Marital_status_test_ds.map(lambda x, y: (normalization_layer(x), y))"
   ]
  },
  {
   "cell_type": "code",
   "execution_count": 10,
   "id": "7a570175-3405-4ba9-a192-25b754ea384c",
   "metadata": {},
   "outputs": [],
   "source": [
    "model = models.Sequential([\n",
    "    \n",
    "    layers.Input(shape=(64, 64, 3)),\n",
    "\n",
    "    layers.Conv2D(16, 3, activation='relu', padding='same'),\n",
    "    layers.Conv2D(16, 3, activation='relu', padding='same'),\n",
    "    layers.MaxPooling2D(),\n",
    "    \n",
    "    layers.Conv2D(32, 3, activation='relu', padding='same'),\n",
    "    layers.Conv2D(32, 3, activation='relu', padding='same'),\n",
    "    layers.MaxPooling2D(),\n",
    "    \n",
    "    layers.Conv2D(64, 3, activation='relu',padding='same'),\n",
    "    layers.Conv2D(64, 3, activation='relu',padding='same'),\n",
    "    layers.MaxPooling2D(),\n",
    "    \n",
    "    layers.Conv2D(128, 3, activation='relu',padding='same'),\n",
    "    layers.Conv2D(128, 3, activation='relu',padding='same'),\n",
    "    layers.MaxPooling2D(),\n",
    "    \n",
    "    layers.Flatten(),\n",
    "    layers.Dense(128, activation='relu'),\n",
    "    layers.Dense(num_classes, activation='softmax')\n",
    "])"
   ]
  },
  {
   "cell_type": "code",
   "execution_count": 11,
   "id": "e21f36ea-6905-4c20-b5aa-bd153cedef9f",
   "metadata": {},
   "outputs": [],
   "source": [
    "model.compile(optimizer='adam',\n",
    "              loss='categorical_crossentropy',\n",
    "              metrics=['accuracy'])"
   ]
  },
  {
   "cell_type": "code",
   "execution_count": 12,
   "id": "4d366409-e074-40ed-826d-06168e94ec96",
   "metadata": {},
   "outputs": [
    {
     "name": "stdout",
     "output_type": "stream",
     "text": [
      "Epoch 1/10\n",
      "\u001b[1m91/91\u001b[0m \u001b[32m━━━━━━━━━━━━━━━━━━━━\u001b[0m\u001b[37m\u001b[0m \u001b[1m17s\u001b[0m 132ms/step - accuracy: 0.4359 - loss: 1.3344 - val_accuracy: 0.9847 - val_loss: 0.0534\n",
      "Epoch 2/10\n",
      "\u001b[1m91/91\u001b[0m \u001b[32m━━━━━━━━━━━━━━━━━━━━\u001b[0m\u001b[37m\u001b[0m \u001b[1m12s\u001b[0m 125ms/step - accuracy: 0.9827 - loss: 0.0620 - val_accuracy: 0.9821 - val_loss: 0.0820\n",
      "Epoch 3/10\n",
      "\u001b[1m91/91\u001b[0m \u001b[32m━━━━━━━━━━━━━━━━━━━━\u001b[0m\u001b[37m\u001b[0m \u001b[1m12s\u001b[0m 125ms/step - accuracy: 0.9979 - loss: 0.0087 - val_accuracy: 0.9987 - val_loss: 0.0111\n",
      "Epoch 4/10\n",
      "\u001b[1m91/91\u001b[0m \u001b[32m━━━━━━━━━━━━━━━━━━━━\u001b[0m\u001b[37m\u001b[0m \u001b[1m20s\u001b[0m 116ms/step - accuracy: 0.9990 - loss: 0.0034 - val_accuracy: 0.9974 - val_loss: 0.0046\n",
      "Epoch 5/10\n",
      "\u001b[1m91/91\u001b[0m \u001b[32m━━━━━━━━━━━━━━━━━━━━\u001b[0m\u001b[37m\u001b[0m \u001b[1m11s\u001b[0m 124ms/step - accuracy: 0.9955 - loss: 0.0177 - val_accuracy: 1.0000 - val_loss: 0.0012\n",
      "Epoch 6/10\n",
      "\u001b[1m91/91\u001b[0m \u001b[32m━━━━━━━━━━━━━━━━━━━━\u001b[0m\u001b[37m\u001b[0m \u001b[1m12s\u001b[0m 126ms/step - accuracy: 1.0000 - loss: 1.1740e-04 - val_accuracy: 1.0000 - val_loss: 1.1632e-04\n",
      "Epoch 7/10\n",
      "\u001b[1m91/91\u001b[0m \u001b[32m━━━━━━━━━━━━━━━━━━━━\u001b[0m\u001b[37m\u001b[0m \u001b[1m12s\u001b[0m 124ms/step - accuracy: 1.0000 - loss: 3.9539e-05 - val_accuracy: 1.0000 - val_loss: 8.1432e-05\n",
      "Epoch 8/10\n",
      "\u001b[1m91/91\u001b[0m \u001b[32m━━━━━━━━━━━━━━━━━━━━\u001b[0m\u001b[37m\u001b[0m \u001b[1m11s\u001b[0m 124ms/step - accuracy: 1.0000 - loss: 2.5951e-05 - val_accuracy: 1.0000 - val_loss: 6.3514e-05\n",
      "Epoch 9/10\n",
      "\u001b[1m91/91\u001b[0m \u001b[32m━━━━━━━━━━━━━━━━━━━━\u001b[0m\u001b[37m\u001b[0m \u001b[1m20s\u001b[0m 117ms/step - accuracy: 1.0000 - loss: 1.8084e-05 - val_accuracy: 1.0000 - val_loss: 5.3862e-05\n",
      "Epoch 10/10\n",
      "\u001b[1m91/91\u001b[0m \u001b[32m━━━━━━━━━━━━━━━━━━━━\u001b[0m\u001b[37m\u001b[0m \u001b[1m12s\u001b[0m 125ms/step - accuracy: 1.0000 - loss: 1.2994e-05 - val_accuracy: 1.0000 - val_loss: 4.5747e-05\n"
     ]
    }
   ],
   "source": [
    "history = model.fit(Marital_status_train_ds, epochs=10, \n",
    "                    validation_data=Marital_status_val_ds)"
   ]
  },
  {
   "cell_type": "code",
   "execution_count": 13,
   "id": "2163e08d-8fcd-4a2a-b02d-f7d257a33f03",
   "metadata": {
    "scrolled": true
   },
   "outputs": [
    {
     "name": "stdout",
     "output_type": "stream",
     "text": [
      "\u001b[1m15/15\u001b[0m \u001b[32m━━━━━━━━━━━━━━━━━━━━\u001b[0m\u001b[37m\u001b[0m \u001b[1m1s\u001b[0m 49ms/step - accuracy: 1.0000 - loss: 2.0508e-05\n"
     ]
    }
   ],
   "source": [
    "test_loss, test_acc = model.evaluate(Marital_status_test_ds)"
   ]
  },
  {
   "cell_type": "code",
   "execution_count": 14,
   "id": "32c55feb-2d0e-4b7b-a8f3-43364d44d979",
   "metadata": {},
   "outputs": [],
   "source": [
    "model.save(\"../models/cnn_model_marital_status_2.keras\")"
   ]
  },
  {
   "cell_type": "code",
   "execution_count": null,
   "id": "ee999c89-f3c8-488b-883c-d6eafd97c97c",
   "metadata": {},
   "outputs": [],
   "source": []
  }
 ],
 "metadata": {
  "kernelspec": {
   "display_name": "Python 3 (ipykernel)",
   "language": "python",
   "name": "python3"
  },
  "language_info": {
   "codemirror_mode": {
    "name": "ipython",
    "version": 3
   },
   "file_extension": ".py",
   "mimetype": "text/x-python",
   "name": "python",
   "nbconvert_exporter": "python",
   "pygments_lexer": "ipython3",
   "version": "3.13.5"
  }
 },
 "nbformat": 4,
 "nbformat_minor": 5
}
