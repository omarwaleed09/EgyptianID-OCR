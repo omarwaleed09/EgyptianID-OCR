{
 "cells": [
  {
   "cell_type": "code",
   "execution_count": 1,
   "id": "dd9db7b9-e1fb-4d85-a131-a9e3e21c38be",
   "metadata": {},
   "outputs": [],
   "source": [
    "import tensorflow as tf\n",
    "from tensorflow.keras import layers, models\n",
    "import os\n",
    "import numpy as np\n",
    "import mapping\n",
    "from tensorflow.keras.preprocessing import image\n",
    "import splitfolders\n",
    "import matplotlib.pyplot as plt\n",
    "from tensorflow.keras.utils import register_keras_serializable\n",
    "from custom_layers.MinPooling import MinPooling2D"
   ]
  },
  {
   "cell_type": "code",
   "execution_count": 2,
   "id": "b5bb3c34-3ccb-4c2a-8d14-de8f1818a9e6",
   "metadata": {},
   "outputs": [],
   "source": [
    "label_map_gender = {\n",
    "    \"male\": \"ذكر\",\n",
    "    \"female\": \"أنثى\",\n",
    "}\n",
    "label_map_religion= {\n",
    "    \"muslim_m\": \"مسلم\",\n",
    "    \"muslim_f\": \"مسلمة\",\n",
    "    \"christian_m\": \"مسيحي\",\n",
    "    \"christian_f\": \"مسيحية\"\n",
    "}\n",
    "label_map_marital_status={\n",
    "    \"single_m\": \"أعزب\",\n",
    "    \"single_f\": \"أنسة\",\n",
    "    \"married_m\": \"متزوج\",\n",
    "    \"married_f\": \"متزوجة\",\n",
    "    \"widow\": \"أرملة\",\n",
    "    \"widower\": \"أرمل\",\n",
    "}"
   ]
  },
  {
   "cell_type": "code",
   "execution_count": 3,
   "id": "6fc82b02-6330-4f30-a84d-f21207e460e4",
   "metadata": {},
   "outputs": [
    {
     "name": "stdout",
     "output_type": "stream",
     "text": [
      "Found 2895 files belonging to 4 classes.\n",
      "Found 783 files belonging to 4 classes.\n",
      "Found 459 files belonging to 4 classes.\n",
      "Classes: ['christian_f', 'christian_m', 'muslim_f', 'muslim_m']\n"
     ]
    }
   ],
   "source": [
    "img_size = (64, 64)\n",
    "batch_size = 32\n",
    "\n",
    "religion_train_ds = tf.keras.utils.image_dataset_from_directory(\n",
    "    r\"..\\data\\dataset_cnn_2\\data\\religion\\train\",\n",
    "    image_size=img_size,\n",
    "    batch_size=batch_size,\n",
    "    label_mode=\"categorical\"\n",
    ")\n",
    "\n",
    "religion_val_ds = tf.keras.utils.image_dataset_from_directory(\n",
    "    r\"..\\data\\dataset_cnn_2\\data\\religion\\val\",\n",
    "    image_size=img_size,\n",
    "    batch_size=batch_size,\n",
    "    label_mode=\"categorical\"\n",
    ")\n",
    "\n",
    "religion_test_ds = tf.keras.utils.image_dataset_from_directory(\n",
    "    r\"..\\data\\dataset_cnn_2\\data\\religion\\test\",\n",
    "    image_size=img_size,\n",
    "    batch_size=batch_size,\n",
    "    label_mode=\"categorical\"\n",
    ")\n",
    "\n",
    "# Normalization layer\n",
    "normalization_layer = tf.keras.layers.Rescaling(1./255)\n",
    "\n",
    "class_names_religion = religion_train_ds.class_names\n",
    "print(\"Classes:\", class_names_religion)\n",
    "num_classes = len(class_names_religion)\n",
    "\n",
    "religion_train_ds = religion_train_ds.map(lambda x, y: (normalization_layer(x), y))\n",
    "religion_val_ds = religion_val_ds.map(lambda x, y: (normalization_layer(x), y))\n",
    "religion_test_ds = religion_test_ds.map(lambda x, y: (normalization_layer(x), y))"
   ]
  },
  {
   "cell_type": "code",
   "execution_count": 4,
   "id": "c7600330-4a8b-45d9-8ce9-781c629d7373",
   "metadata": {},
   "outputs": [],
   "source": [
    "model = models.Sequential([\n",
    "    #layers.Conv2D(16, 3, activation='relu', input_shape=(64, 64, 3)),\n",
    "    #layers.MaxPooling2D(),\n",
    "    \n",
    "    layers.Conv2D(32, 3, activation='relu'),\n",
    "    MinPooling2D(pool_size=(2,2)),\n",
    "    #layers.MaxPooling2D(),\n",
    "    #layers.AveragePooling2D(pool_size=(2,2)),\n",
    "\n",
    "    layers.Conv2D(64, 3, activation='relu'),\n",
    "    #layers.MaxPooling2D(),\n",
    "    \n",
    "    layers.Conv2D(128, 3, activation='relu'),\n",
    "    layers.MaxPooling2D(),\n",
    "    \n",
    "    layers.Conv2D(256, 3, activation='relu'),\n",
    "    #layers.AveragePooling2D(pool_size=(2,2)),\n",
    "    MinPooling2D(pool_size=(2,2)),\n",
    "\n",
    "    layers.Flatten(),\n",
    "    layers.Dense(128, activation='relu'),\n",
    "    layers.Dense(num_classes, activation='softmax')\n",
    "])"
   ]
  },
  {
   "cell_type": "code",
   "execution_count": 5,
   "id": "10111e23-0328-459c-8976-0ea7cc534ede",
   "metadata": {},
   "outputs": [],
   "source": [
    "model.compile(optimizer='adam',\n",
    "              loss='categorical_crossentropy',\n",
    "              metrics=['accuracy'])"
   ]
  },
  {
   "cell_type": "code",
   "execution_count": 6,
   "id": "67881f50-20c4-479a-9e0b-efa486ff87a9",
   "metadata": {
    "scrolled": true
   },
   "outputs": [
    {
     "name": "stdout",
     "output_type": "stream",
     "text": [
      "Epoch 1/30\n",
      "WARNING:tensorflow:From C:\\Users\\HP\\anaconda3\\envs\\ocr\\Lib\\site-packages\\keras\\src\\backend\\tensorflow\\core.py:232: The name tf.placeholder is deprecated. Please use tf.compat.v1.placeholder instead.\n",
      "\n",
      "\u001b[1m91/91\u001b[0m \u001b[32m━━━━━━━━━━━━━━━━━━━━\u001b[0m\u001b[37m\u001b[0m \u001b[1m78s\u001b[0m 501ms/step - accuracy: 0.7150 - loss: 0.6651 - val_accuracy: 0.9847 - val_loss: 0.0549\n",
      "Epoch 2/30\n",
      "\u001b[1m91/91\u001b[0m \u001b[32m━━━━━━━━━━━━━━━━━━━━\u001b[0m\u001b[37m\u001b[0m \u001b[1m42s\u001b[0m 462ms/step - accuracy: 1.0000 - loss: 6.7207e-04 - val_accuracy: 0.9974 - val_loss: 0.0054\n",
      "Epoch 5/30\n",
      "\u001b[1m91/91\u001b[0m \u001b[32m━━━━━━━━━━━━━━━━━━━━\u001b[0m\u001b[37m\u001b[0m \u001b[1m80s\u001b[0m 440ms/step - accuracy: 1.0000 - loss: 1.3693e-04 - val_accuracy: 0.9974 - val_loss: 0.0047\n",
      "Epoch 6/30\n",
      "\u001b[1m91/91\u001b[0m \u001b[32m━━━━━━━━━━━━━━━━━━━━\u001b[0m\u001b[37m\u001b[0m \u001b[1m41s\u001b[0m 450ms/step - accuracy: 1.0000 - loss: 7.6460e-05 - val_accuracy: 0.9974 - val_loss: 0.0046\n",
      "Epoch 7/30\n",
      "\u001b[1m91/91\u001b[0m \u001b[32m━━━━━━━━━━━━━━━━━━━━\u001b[0m\u001b[37m\u001b[0m \u001b[1m34s\u001b[0m 371ms/step - accuracy: 1.0000 - loss: 6.2414e-05 - val_accuracy: 0.9974 - val_loss: 0.0043\n",
      "Epoch 8/30\n",
      "\u001b[1m91/91\u001b[0m \u001b[32m━━━━━━━━━━━━━━━━━━━━\u001b[0m\u001b[37m\u001b[0m \u001b[1m23s\u001b[0m 252ms/step - accuracy: 1.0000 - loss: 3.9752e-05 - val_accuracy: 0.9974 - val_loss: 0.0041\n",
      "Epoch 9/30\n",
      "\u001b[1m91/91\u001b[0m \u001b[32m━━━━━━━━━━━━━━━━━━━━\u001b[0m\u001b[37m\u001b[0m \u001b[1m41s\u001b[0m 452ms/step - accuracy: 1.0000 - loss: 3.1454e-05 - val_accuracy: 0.9974 - val_loss: 0.0041\n",
      "Epoch 10/30\n",
      "\u001b[1m91/91\u001b[0m \u001b[32m━━━━━━━━━━━━━━━━━━━━\u001b[0m\u001b[37m\u001b[0m \u001b[1m41s\u001b[0m 451ms/step - accuracy: 1.0000 - loss: 2.4626e-05 - val_accuracy: 0.9974 - val_loss: 0.0041\n",
      "Epoch 11/30\n",
      "\u001b[1m91/91\u001b[0m \u001b[32m━━━━━━━━━━━━━━━━━━━━\u001b[0m\u001b[37m\u001b[0m \u001b[1m45s\u001b[0m 492ms/step - accuracy: 1.0000 - loss: 1.9562e-05 - val_accuracy: 0.9974 - val_loss: 0.0040\n",
      "Epoch 12/30\n",
      "\u001b[1m91/91\u001b[0m \u001b[32m━━━━━━━━━━━━━━━━━━━━\u001b[0m\u001b[37m\u001b[0m \u001b[1m43s\u001b[0m 466ms/step - accuracy: 1.0000 - loss: 1.5948e-05 - val_accuracy: 0.9974 - val_loss: 0.0039\n",
      "Epoch 13/30\n",
      "\u001b[1m91/91\u001b[0m \u001b[32m━━━━━━━━━━━━━━━━━━━━\u001b[0m\u001b[37m\u001b[0m \u001b[1m97s\u001b[0m 621ms/step - accuracy: 1.0000 - loss: 1.3628e-05 - val_accuracy: 0.9974 - val_loss: 0.0040\n",
      "Epoch 14/30\n",
      "\u001b[1m91/91\u001b[0m \u001b[32m━━━━━━━━━━━━━━━━━━━━\u001b[0m\u001b[37m\u001b[0m \u001b[1m52s\u001b[0m 568ms/step - accuracy: 1.0000 - loss: 1.1246e-05 - val_accuracy: 0.9974 - val_loss: 0.0039\n",
      "Epoch 15/30\n",
      "\u001b[1m91/91\u001b[0m \u001b[32m━━━━━━━━━━━━━━━━━━━━\u001b[0m\u001b[37m\u001b[0m \u001b[1m51s\u001b[0m 558ms/step - accuracy: 1.0000 - loss: 9.7050e-06 - val_accuracy: 0.9974 - val_loss: 0.0039\n",
      "Epoch 16/30\n",
      "\u001b[1m91/91\u001b[0m \u001b[32m━━━━━━━━━━━━━━━━━━━━\u001b[0m\u001b[37m\u001b[0m \u001b[1m55s\u001b[0m 600ms/step - accuracy: 1.0000 - loss: 8.3567e-06 - val_accuracy: 0.9974 - val_loss: 0.0039\n",
      "Epoch 17/30\n",
      "\u001b[1m91/91\u001b[0m \u001b[32m━━━━━━━━━━━━━━━━━━━━\u001b[0m\u001b[37m\u001b[0m \u001b[1m57s\u001b[0m 618ms/step - accuracy: 1.0000 - loss: 7.4259e-06 - val_accuracy: 0.9974 - val_loss: 0.0036\n",
      "Epoch 18/30\n",
      "\u001b[1m91/91\u001b[0m \u001b[32m━━━━━━━━━━━━━━━━━━━━\u001b[0m\u001b[37m\u001b[0m \u001b[1m58s\u001b[0m 627ms/step - accuracy: 1.0000 - loss: 6.2944e-06 - val_accuracy: 0.9974 - val_loss: 0.0032\n",
      "Epoch 19/30\n",
      "\u001b[1m91/91\u001b[0m \u001b[32m━━━━━━━━━━━━━━━━━━━━\u001b[0m\u001b[37m\u001b[0m \u001b[1m56s\u001b[0m 613ms/step - accuracy: 1.0000 - loss: 5.4730e-06 - val_accuracy: 0.9974 - val_loss: 0.0034\n",
      "Epoch 20/30\n",
      "\u001b[1m91/91\u001b[0m \u001b[32m━━━━━━━━━━━━━━━━━━━━\u001b[0m\u001b[37m\u001b[0m \u001b[1m54s\u001b[0m 585ms/step - accuracy: 1.0000 - loss: 4.9221e-06 - val_accuracy: 0.9974 - val_loss: 0.0032\n",
      "Epoch 21/30\n",
      "\u001b[1m91/91\u001b[0m \u001b[32m━━━━━━━━━━━━━━━━━━━━\u001b[0m\u001b[37m\u001b[0m \u001b[1m54s\u001b[0m 585ms/step - accuracy: 1.0000 - loss: 4.4594e-06 - val_accuracy: 0.9974 - val_loss: 0.0032\n",
      "Epoch 22/30\n",
      "\u001b[1m91/91\u001b[0m \u001b[32m━━━━━━━━━━━━━━━━━━━━\u001b[0m\u001b[37m\u001b[0m \u001b[1m46s\u001b[0m 496ms/step - accuracy: 1.0000 - loss: 4.0361e-06 - val_accuracy: 0.9974 - val_loss: 0.0032\n",
      "Epoch 23/30\n",
      "\u001b[1m91/91\u001b[0m \u001b[32m━━━━━━━━━━━━━━━━━━━━\u001b[0m\u001b[37m\u001b[0m \u001b[1m49s\u001b[0m 541ms/step - accuracy: 1.0000 - loss: 3.5567e-06 - val_accuracy: 0.9974 - val_loss: 0.0032\n",
      "Epoch 24/30\n",
      "\u001b[1m91/91\u001b[0m \u001b[32m━━━━━━━━━━━━━━━━━━━━\u001b[0m\u001b[37m\u001b[0m \u001b[1m54s\u001b[0m 592ms/step - accuracy: 1.0000 - loss: 3.1071e-06 - val_accuracy: 0.9974 - val_loss: 0.0031\n",
      "Epoch 25/30\n",
      "\u001b[1m91/91\u001b[0m \u001b[32m━━━━━━━━━━━━━━━━━━━━\u001b[0m\u001b[37m\u001b[0m \u001b[1m54s\u001b[0m 587ms/step - accuracy: 1.0000 - loss: 2.7421e-06 - val_accuracy: 0.9974 - val_loss: 0.0029\n",
      "Epoch 26/30\n",
      "\u001b[1m91/91\u001b[0m \u001b[32m━━━━━━━━━━━━━━━━━━━━\u001b[0m\u001b[37m\u001b[0m \u001b[1m52s\u001b[0m 560ms/step - accuracy: 1.0000 - loss: 2.4840e-06 - val_accuracy: 0.9974 - val_loss: 0.0030\n",
      "Epoch 27/30\n",
      "\u001b[1m91/91\u001b[0m \u001b[32m━━━━━━━━━━━━━━━━━━━━\u001b[0m\u001b[37m\u001b[0m \u001b[1m40s\u001b[0m 438ms/step - accuracy: 1.0000 - loss: 2.2944e-06 - val_accuracy: 0.9974 - val_loss: 0.0030\n",
      "Epoch 28/30\n",
      "\u001b[1m91/91\u001b[0m \u001b[32m━━━━━━━━━━━━━━━━━━━━\u001b[0m\u001b[37m\u001b[0m \u001b[1m50s\u001b[0m 551ms/step - accuracy: 1.0000 - loss: 2.0204e-06 - val_accuracy: 0.9974 - val_loss: 0.0029\n",
      "Epoch 29/30\n",
      "\u001b[1m91/91\u001b[0m \u001b[32m━━━━━━━━━━━━━━━━━━━━\u001b[0m\u001b[37m\u001b[0m \u001b[1m53s\u001b[0m 579ms/step - accuracy: 1.0000 - loss: 1.8590e-06 - val_accuracy: 0.9974 - val_loss: 0.0030\n",
      "Epoch 30/30\n",
      "\u001b[1m91/91\u001b[0m \u001b[32m━━━━━━━━━━━━━━━━━━━━\u001b[0m\u001b[37m\u001b[0m \u001b[1m53s\u001b[0m 576ms/step - accuracy: 1.0000 - loss: 1.6796e-06 - val_accuracy: 0.9974 - val_loss: 0.0028\n"
     ]
    }
   ],
   "source": [
    "history = model.fit(religion_train_ds, epochs=30, \n",
    "                    validation_data=religion_val_ds)"
   ]
  },
  {
   "cell_type": "code",
   "execution_count": 7,
   "id": "3ecc49a6-5fe0-42b9-a946-b2c501c199d2",
   "metadata": {},
   "outputs": [
    {
     "name": "stdout",
     "output_type": "stream",
     "text": [
      "\u001b[1m15/15\u001b[0m \u001b[32m━━━━━━━━━━━━━━━━━━━━\u001b[0m\u001b[37m\u001b[0m \u001b[1m4s\u001b[0m 214ms/step - accuracy: 0.9978 - loss: 0.0016    \n"
     ]
    }
   ],
   "source": [
    "test_loss, test_acc = model.evaluate(religion_test_ds)"
   ]
  },
  {
   "cell_type": "code",
   "execution_count": 8,
   "id": "8fbbb445-e974-4562-aaa5-169064ec29e5",
   "metadata": {},
   "outputs": [
    {
     "name": "stdout",
     "output_type": "stream",
     "text": [
      "../outputs/predictions_CNN_muslim.txt\n"
     ]
    }
   ],
   "source": [
    "folder_path = r\"D:\\ocr_project\\data\\dataset_cnn_2\\data\\religion\\test\\muslim_m\"\n",
    "#D:\\ocr_project\\data\\dataset_cnn_2\\output_img\\result\\crops\\gender\\male\n",
    "#religion\\muslim_m   \"D:\\ocr_project\\data\\dataset_cnn_2\\output_img\\result\\crops\\gender\\male\"\n",
    "#marital status\\widower   \"..\\data\\dataset_cnn_2\\data\\test\\male\"\n",
    "output_file = \"../outputs/predictions_CNN_muslim.txt\"\n",
    "\n",
    "with open(output_file, \"w\", encoding=\"utf-8\") as f:\n",
    "    for img_name in os.listdir(folder_path):\n",
    "        img_path = os.path.join(folder_path, img_name)\n",
    "\n",
    "       \n",
    "        if not img_name.lower().endswith(('.png', '.jpg', '.jpeg')):\n",
    "            continue\n",
    "\n",
    "      \n",
    "        img = image.load_img(img_path, target_size=(64,64))\n",
    "        img_array = image.img_to_array(img)\n",
    "        img_array = np.expand_dims(img_array, axis=0)\n",
    "        img_array = img_array / 255.0\n",
    "\n",
    "     \n",
    "        predictions = model.predict(img_array, verbose=0)\n",
    "        predicted_label = np.argmax(predictions, axis=1)[0]\n",
    "\n",
    "        en_label = class_names_religion[predicted_label]\n",
    "        ar_label = label_map_religion.get(en_label, en_label)\n",
    "\n",
    "     \n",
    "        f.write(f\"{img_name}: {ar_label}\\n\")\n",
    "\n",
    "print(f\"{output_file}\")"
   ]
  },
  {
   "cell_type": "code",
   "execution_count": 9,
   "id": "8d64b40c-bba0-4b7d-9b17-587bbd556a47",
   "metadata": {},
   "outputs": [],
   "source": [
    "model.save(\"../models/cnn_model_religion.keras\")"
   ]
  },
  {
   "cell_type": "code",
   "execution_count": null,
   "id": "e87e0a4a-94ef-4b8e-b612-b649a542a838",
   "metadata": {},
   "outputs": [],
   "source": []
  }
 ],
 "metadata": {
  "kernelspec": {
   "display_name": "Python 3 (ipykernel)",
   "language": "python",
   "name": "python3"
  },
  "language_info": {
   "codemirror_mode": {
    "name": "ipython",
    "version": 3
   },
   "file_extension": ".py",
   "mimetype": "text/x-python",
   "name": "python",
   "nbconvert_exporter": "python",
   "pygments_lexer": "ipython3",
   "version": "3.13.5"
  }
 },
 "nbformat": 4,
 "nbformat_minor": 5
}
