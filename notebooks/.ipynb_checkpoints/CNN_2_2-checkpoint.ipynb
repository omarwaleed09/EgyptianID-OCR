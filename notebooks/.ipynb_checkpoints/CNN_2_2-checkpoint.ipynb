{
 "cells": [
  {
   "cell_type": "code",
   "execution_count": 1,
   "id": "b6646adf-33a9-4399-98dd-0a0bd563460a",
   "metadata": {},
   "outputs": [],
   "source": [
    "import tensorflow as tf\n",
    "from tensorflow.keras import layers, models\n",
    "import os\n",
    "import numpy as np\n",
    "import mapping\n",
    "from tensorflow.keras.preprocessing import image\n",
    "import splitfolders\n",
    "import matplotlib.pyplot as plt\n",
    "from tensorflow.keras.utils import register_keras_serializable\n",
    "from custom_layers.MinPooling import MinPooling2D"
   ]
  },
  {
   "cell_type": "code",
   "execution_count": 2,
   "id": "347db1cd-a583-4991-9138-13e033f0a26c",
   "metadata": {},
   "outputs": [],
   "source": [
    "label_map_religion= {\n",
    "    \"muslim_m\": \"مسلم\",\n",
    "    \"muslim_f\": \"مسلمة\",\n",
    "    \"christian_m\": \"مسيحي\",\n",
    "    \"christian_f\": \"مسيحية\"\n",
    "}"
   ]
  },
  {
   "cell_type": "code",
   "execution_count": 4,
   "id": "facd471a-4955-42e5-a44c-fbf4a3879f2b",
   "metadata": {},
   "outputs": [
    {
     "name": "stdout",
     "output_type": "stream",
     "text": [
      "Found 2895 files belonging to 4 classes.\n",
      "Found 783 files belonging to 4 classes.\n",
      "Found 459 files belonging to 4 classes.\n",
      "Classes: ['christian_f', 'christian_m', 'muslim_f', 'muslim_m']\n"
     ]
    }
   ],
   "source": [
    "img_size = (64, 64)\n",
    "batch_size = 32\n",
    "\n",
    "religion_train_ds = tf.keras.utils.image_dataset_from_directory(\n",
    "    r\"..\\data\\dataset_cnn_2\\data\\religion\\train\",\n",
    "    image_size=img_size,\n",
    "    batch_size=batch_size,\n",
    "    label_mode=\"categorical\"\n",
    ")\n",
    "\n",
    "religion_val_ds = tf.keras.utils.image_dataset_from_directory(\n",
    "    r\"..\\data\\dataset_cnn_2\\data\\religion\\val\",\n",
    "    image_size=img_size,\n",
    "    batch_size=batch_size,\n",
    "    label_mode=\"categorical\"\n",
    ")\n",
    "\n",
    "religion_test_ds = tf.keras.utils.image_dataset_from_directory(\n",
    "    r\"..\\data\\dataset_cnn_2\\data\\religion\\test\",\n",
    "    image_size=img_size,\n",
    "    batch_size=batch_size,\n",
    "    label_mode=\"categorical\"\n",
    ")\n",
    "\n",
    "# Normalization layer\n",
    "normalization_layer = tf.keras.layers.Rescaling(1./255)\n",
    "\n",
    "class_names_religion = religion_train_ds.class_names\n",
    "print(\"Classes:\", class_names_religion)\n",
    "num_classes = len(class_names_religion)\n",
    "\n",
    "religion_train_ds = religion_train_ds.map(lambda x, y: (normalization_layer(x), y))\n",
    "religion_val_ds = religion_val_ds.map(lambda x, y: (normalization_layer(x), y))\n",
    "religion_test_ds = religion_test_ds.map(lambda x, y: (normalization_layer(x), y))"
   ]
  },
  {
   "cell_type": "code",
   "execution_count": 5,
   "id": "cbbdd927-d3eb-4f0d-bded-d7cda3c991bb",
   "metadata": {},
   "outputs": [],
   "source": [
    "model = models.Sequential([\n",
    "    \n",
    "    layers.Input(shape=(64, 64, 3)),\n",
    "\n",
    "    layers.Conv2D(32, 3, activation='relu', padding='same'),\n",
    "    layers.Conv2D(32, 3, activation='relu', padding='same'),\n",
    "    layers.MaxPooling2D(),\n",
    "    \n",
    "    layers.Conv2D(64, 3, activation='relu',padding='same'),\n",
    "    layers.Conv2D(64, 3, activation='relu',padding='same'),\n",
    "    layers.MaxPooling2D(),\n",
    "    \n",
    "    layers.Conv2D(128, 3, activation='relu',padding='same'),\n",
    "    layers.Conv2D(128, 3, activation='relu',padding='same'),\n",
    "    layers.MaxPooling2D(),\n",
    "    \n",
    "    layers.Flatten(),\n",
    "    layers.Dense(128, activation='relu'),\n",
    "    layers.Dense(num_classes, activation='softmax')\n",
    "])"
   ]
  },
  {
   "cell_type": "code",
   "execution_count": 6,
   "id": "2080f968-a6c3-4c2f-a40b-e6611a9cc4e3",
   "metadata": {},
   "outputs": [],
   "source": [
    "model.compile(optimizer='adam',\n",
    "              loss='categorical_crossentropy',\n",
    "              metrics=['accuracy'])"
   ]
  },
  {
   "cell_type": "code",
   "execution_count": 8,
   "id": "da3ecbd8-99a5-42fa-92ce-da2d05310181",
   "metadata": {},
   "outputs": [
    {
     "name": "stdout",
     "output_type": "stream",
     "text": [
      "Epoch 1/15\n",
      "\u001b[1m91/91\u001b[0m \u001b[32m━━━━━━━━━━━━━━━━━━━━\u001b[0m\u001b[37m\u001b[0m \u001b[1m30s\u001b[0m 273ms/step - accuracy: 0.4677 - loss: 1.1328 - val_accuracy: 0.9400 - val_loss: 0.2405\n",
      "Epoch 2/15\n",
      "\u001b[1m91/91\u001b[0m \u001b[32m━━━━━━━━━━━━━━━━━━━━\u001b[0m\u001b[37m\u001b[0m \u001b[1m40s\u001b[0m 265ms/step - accuracy: 0.9862 - loss: 0.0510 - val_accuracy: 0.9949 - val_loss: 0.0245\n",
      "Epoch 3/15\n",
      "\u001b[1m91/91\u001b[0m \u001b[32m━━━━━━━━━━━━━━━━━━━━\u001b[0m\u001b[37m\u001b[0m \u001b[1m25s\u001b[0m 270ms/step - accuracy: 0.9969 - loss: 0.0083 - val_accuracy: 0.9974 - val_loss: 0.0166\n",
      "Epoch 4/15\n",
      "\u001b[1m91/91\u001b[0m \u001b[32m━━━━━━━━━━━━━━━━━━━━\u001b[0m\u001b[37m\u001b[0m \u001b[1m24s\u001b[0m 263ms/step - accuracy: 0.9997 - loss: 0.0013 - val_accuracy: 0.9987 - val_loss: 0.0330\n",
      "Epoch 5/15\n",
      "\u001b[1m91/91\u001b[0m \u001b[32m━━━━━━━━━━━━━━━━━━━━\u001b[0m\u001b[37m\u001b[0m \u001b[1m24s\u001b[0m 265ms/step - accuracy: 1.0000 - loss: 9.1029e-05 - val_accuracy: 0.9987 - val_loss: 0.0260\n",
      "Epoch 6/15\n",
      "\u001b[1m91/91\u001b[0m \u001b[32m━━━━━━━━━━━━━━━━━━━━\u001b[0m\u001b[37m\u001b[0m \u001b[1m42s\u001b[0m 277ms/step - accuracy: 1.0000 - loss: 1.5586e-05 - val_accuracy: 0.9987 - val_loss: 0.0284\n",
      "Epoch 7/15\n",
      "\u001b[1m91/91\u001b[0m \u001b[32m━━━━━━━━━━━━━━━━━━━━\u001b[0m\u001b[37m\u001b[0m \u001b[1m41s\u001b[0m 274ms/step - accuracy: 1.0000 - loss: 7.4014e-06 - val_accuracy: 0.9987 - val_loss: 0.0288\n",
      "Epoch 8/15\n",
      "\u001b[1m91/91\u001b[0m \u001b[32m━━━━━━━━━━━━━━━━━━━━\u001b[0m\u001b[37m\u001b[0m \u001b[1m24s\u001b[0m 259ms/step - accuracy: 1.0000 - loss: 5.2516e-06 - val_accuracy: 0.9987 - val_loss: 0.0291\n",
      "Epoch 9/15\n",
      "\u001b[1m91/91\u001b[0m \u001b[32m━━━━━━━━━━━━━━━━━━━━\u001b[0m\u001b[37m\u001b[0m \u001b[1m23s\u001b[0m 253ms/step - accuracy: 1.0000 - loss: 3.7592e-06 - val_accuracy: 0.9987 - val_loss: 0.0300\n",
      "Epoch 10/15\n",
      "\u001b[1m91/91\u001b[0m \u001b[32m━━━━━━━━━━━━━━━━━━━━\u001b[0m\u001b[37m\u001b[0m \u001b[1m42s\u001b[0m 264ms/step - accuracy: 1.0000 - loss: 2.7773e-06 - val_accuracy: 0.9987 - val_loss: 0.0305\n",
      "Epoch 11/15\n",
      "\u001b[1m91/91\u001b[0m \u001b[32m━━━━━━━━━━━━━━━━━━━━\u001b[0m\u001b[37m\u001b[0m \u001b[1m41s\u001b[0m 266ms/step - accuracy: 1.0000 - loss: 2.0917e-06 - val_accuracy: 0.9987 - val_loss: 0.0309\n",
      "Epoch 12/15\n",
      "\u001b[1m91/91\u001b[0m \u001b[32m━━━━━━━━━━━━━━━━━━━━\u001b[0m\u001b[37m\u001b[0m \u001b[1m24s\u001b[0m 265ms/step - accuracy: 1.0000 - loss: 1.5750e-06 - val_accuracy: 0.9987 - val_loss: 0.0314\n",
      "Epoch 13/15\n",
      "\u001b[1m91/91\u001b[0m \u001b[32m━━━━━━━━━━━━━━━━━━━━\u001b[0m\u001b[37m\u001b[0m \u001b[1m26s\u001b[0m 282ms/step - accuracy: 1.0000 - loss: 1.2285e-06 - val_accuracy: 0.9987 - val_loss: 0.0319\n",
      "Epoch 14/15\n",
      "\u001b[1m91/91\u001b[0m \u001b[32m━━━━━━━━━━━━━━━━━━━━\u001b[0m\u001b[37m\u001b[0m \u001b[1m41s\u001b[0m 285ms/step - accuracy: 1.0000 - loss: 9.7505e-07 - val_accuracy: 0.9987 - val_loss: 0.0324\n",
      "Epoch 15/15\n",
      "\u001b[1m91/91\u001b[0m \u001b[32m━━━━━━━━━━━━━━━━━━━━\u001b[0m\u001b[37m\u001b[0m \u001b[1m40s\u001b[0m 276ms/step - accuracy: 1.0000 - loss: 7.8917e-07 - val_accuracy: 0.9987 - val_loss: 0.0328\n"
     ]
    }
   ],
   "source": [
    "h = model.fit(religion_train_ds, epochs=15, \n",
    "                    validation_data=religion_val_ds)"
   ]
  },
  {
   "cell_type": "code",
   "execution_count": 9,
   "id": "f31807fe-1c21-4fe6-a35b-7cc7174fe5ea",
   "metadata": {},
   "outputs": [
    {
     "name": "stdout",
     "output_type": "stream",
     "text": [
      "\u001b[1m15/15\u001b[0m \u001b[32m━━━━━━━━━━━━━━━━━━━━\u001b[0m\u001b[37m\u001b[0m \u001b[1m2s\u001b[0m 92ms/step - accuracy: 1.0000 - loss: 2.8959e-06\n"
     ]
    }
   ],
   "source": [
    "test_loss, test_acc = model.evaluate(religion_test_ds)"
   ]
  },
  {
   "cell_type": "code",
   "execution_count": 10,
   "id": "70536baa-3db3-4d23-9fc1-5ed316fb50a3",
   "metadata": {},
   "outputs": [],
   "source": [
    "model.save(\"../models/cnn_model_religion_2.keras\")"
   ]
  },
  {
   "cell_type": "code",
   "execution_count": null,
   "id": "661a969d-d576-4624-961b-8a91a631c2ba",
   "metadata": {},
   "outputs": [],
   "source": []
  }
 ],
 "metadata": {
  "kernelspec": {
   "display_name": "Python 3 (ipykernel)",
   "language": "python",
   "name": "python3"
  },
  "language_info": {
   "codemirror_mode": {
    "name": "ipython",
    "version": 3
   },
   "file_extension": ".py",
   "mimetype": "text/x-python",
   "name": "python",
   "nbconvert_exporter": "python",
   "pygments_lexer": "ipython3",
   "version": "3.13.5"
  }
 },
 "nbformat": 4,
 "nbformat_minor": 5
}
