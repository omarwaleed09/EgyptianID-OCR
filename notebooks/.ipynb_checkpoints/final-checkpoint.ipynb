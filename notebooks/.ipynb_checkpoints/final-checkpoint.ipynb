{
 "cells": [
  {
   "cell_type": "code",
   "execution_count": 1,
   "id": "126c1cbb-e745-435f-a4eb-0b4846e48298",
   "metadata": {},
   "outputs": [],
   "source": [
    "import os\n",
    "import json\n",
    "import cv2\n",
    "import numpy as np\n",
    "from tensorflow.keras.models import load_model\n",
    "from tensorflow.keras.preprocessing import image\n",
    "from ultralytics import YOLO\n",
    "from custom_layers.MinPooling import MinPooling2D"
   ]
  },
  {
   "cell_type": "code",
   "execution_count": 2,
   "id": "8aae9002-d48a-4dd1-9f64-122357ed0794",
   "metadata": {},
   "outputs": [],
   "source": [
    "yolo_model = YOLO(\"../runs/detect/train10/weights/best.pt\")\n",
    "cnn_model_gender = load_model(\"../models/cnn_model_gender_2.keras\")\n",
    "cnn_model_religion = load_model(\"../models/cnn_model_religion_2.keras\")\n",
    "cnn_model_marital_status = load_model(\"../models/cnn_model_marital_status_2.keras\")"
   ]
  },
  {
   "cell_type": "code",
   "execution_count": 3,
   "id": "5bfa59ce-0145-409d-96db-901015b2518c",
   "metadata": {},
   "outputs": [],
   "source": [
    "with open(\"../models/class_en_to_ar.json\", \"r\", encoding=\"utf-8\") as f:\n",
    "    field_map = json.load(f)\n",
    "with open(\"../models/class_names_gender.json\", \"r\", encoding=\"utf-8\") as f:\n",
    "    class_names_gender = json.load(f)\n",
    "with open(\"../models/class_names_religion.json\", \"r\", encoding=\"utf-8\") as f:\n",
    "    class_names_religion = json.load(f)\n",
    "with open(\"../models/class_names_marital_status.json\", \"r\", encoding=\"utf-8\") as f:\n",
    "    class_names_marital_status = json.load(f)"
   ]
  },
  {
   "cell_type": "code",
   "execution_count": 4,
   "id": "3c7de4c1-d02a-492d-ad88-b2d56821879b",
   "metadata": {},
   "outputs": [],
   "source": [
    "def predict_field(img_path, field_name):\n",
    "    img = image.load_img(img_path, target_size=(64, 64))\n",
    "    img_array = image.img_to_array(img)\n",
    "    img_array = np.expand_dims(img_array, axis=0) / 255.0\n",
    "\n",
    "\n",
    "    if field_name == \"gender\":\n",
    "        preds = cnn_model_gender.predict(img_array, verbose=0)\n",
    "        label = class_names_gender[np.argmax(preds, axis=1)[0]]\n",
    "    elif field_name == \"religion\":\n",
    "        preds = cnn_model_religion.predict(img_array, verbose=0)\n",
    "        label = class_names_religion[np.argmax(preds, axis=1)[0]]\n",
    "    elif field_name == \"marital status\":\n",
    "        preds = cnn_model_marital_status.predict(img_array, verbose=0)\n",
    "        label = class_names_marital_status[np.argmax(preds, axis=1)[0]]\n",
    "    else:\n",
    "        return None\n",
    "\n",
    "    label_ar = field_map[label]\n",
    "    return label_ar"
   ]
  },
  {
   "cell_type": "code",
   "execution_count": 7,
   "id": "1e3d69a9-6137-4317-a180-f63c7adef7e4",
   "metadata": {},
   "outputs": [],
   "source": [
    "def process_id_card(img_path, output_folder=\"../outputs\"):\n",
    "    os.makedirs(output_folder, exist_ok=True)\n",
    "\n",
    "    results = yolo_model(img_path)\n",
    "\n",
    "    predictions = {}\n",
    "    img = cv2.imread(img_path)\n",
    "    basename = os.path.splitext(os.path.basename(img_path))[0]\n",
    "\n",
    "    for r in results:\n",
    "        for box in r.boxes:\n",
    "            cls_id = int(box.cls[0])\n",
    "            field_name = yolo_model.names[cls_id]  \n",
    "\n",
    "            x1, y1, x2, y2 = map(int, box.xyxy[0])\n",
    "            crop = img[y1:y2, x1:x2]\n",
    "\n",
    "            crop_path = f\"{output_folder}/{basename}_{field_name}.jpg\"\n",
    "            cv2.imwrite(crop_path, crop)\n",
    "\n",
    "            \n",
    "            label = predict_field(crop_path, field_name)\n",
    "            if label:\n",
    "                predictions[field_name] = label\n",
    "\n",
    "    \n",
    "    json_path = os.path.join(output_folder, f\"{basename}.json\")\n",
    "    with open(json_path, \"w\", encoding=\"utf-8\") as f:\n",
    "        json.dump(predictions, f, ensure_ascii=False, indent=4)\n",
    "\n",
    "    print(f\"Processed {img_path} -> {json_path}\")\n"
   ]
  },
  {
   "cell_type": "code",
   "execution_count": 9,
   "id": "6984ea85-37cd-478b-be4d-b1e346e6db23",
   "metadata": {
    "scrolled": true
   },
   "outputs": [
    {
     "name": "stdout",
     "output_type": "stream",
     "text": [
      "\n",
      "image 1/1 D:\\ocr_project\\notebooks\\..\\exp\\test.jpg: 640x480 1 gender, 1 marital status, 1 religion, 275.0ms\n",
      "Speed: 6.7ms preprocess, 275.0ms inference, 4.3ms postprocess per image at shape (1, 3, 640, 480)\n",
      "Processed ../exp\\test.jpg -> ../outputs\\test.json\n"
     ]
    }
   ],
   "source": [
    "input_folder = \"../exp\"\n",
    "for file in os.listdir(input_folder):\n",
    "    if file.lower().endswith((\".jpg\", \".png\", \".jpeg\")):\n",
    "        process_id_card(os.path.join(input_folder, file))"
   ]
  },
  {
   "cell_type": "code",
   "execution_count": null,
   "id": "5db3076a-9b47-40a4-9010-60e42680fc7b",
   "metadata": {},
   "outputs": [],
   "source": []
  }
 ],
 "metadata": {
  "kernelspec": {
   "display_name": "Python 3 (ipykernel)",
   "language": "python",
   "name": "python3"
  },
  "language_info": {
   "codemirror_mode": {
    "name": "ipython",
    "version": 3
   },
   "file_extension": ".py",
   "mimetype": "text/x-python",
   "name": "python",
   "nbconvert_exporter": "python",
   "pygments_lexer": "ipython3",
   "version": "3.13.5"
  }
 },
 "nbformat": 4,
 "nbformat_minor": 5
}
