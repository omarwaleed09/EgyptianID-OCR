{
 "cells": [
  {
   "cell_type": "code",
   "execution_count": 1,
   "id": "e5bad775-1f73-4dd9-81e1-8ddd8ccffc34",
   "metadata": {},
   "outputs": [],
   "source": [
    "from ultralytics import YOLO\n",
    "from tensorflow.keras import models\n",
    "import os\n",
    "import numpy as np\n",
    "from tensorflow.keras.preprocessing import image"
   ]
  },
  {
   "cell_type": "code",
   "execution_count": 2,
   "id": "9abe8ec8-68b2-49c8-994b-cb8652a1f328",
   "metadata": {},
   "outputs": [],
   "source": [
    "yolo_model = YOLO(\"../runs/detect/train8/weights/best.pt\")"
   ]
  },
  {
   "cell_type": "code",
   "execution_count": 4,
   "id": "97481891-7759-4172-b7e6-12ed4cd5a4fb",
   "metadata": {},
   "outputs": [],
   "source": [
    "model = models.load_model(\"../models/cnn_model_3.keras\")"
   ]
  },
  {
   "cell_type": "code",
   "execution_count": 7,
   "id": "5e558493-1465-485a-a3b7-a87b50e40a15",
   "metadata": {},
   "outputs": [],
   "source": [
    "import json\n",
    "with open(\"../models/class_en_to_ar.json\", \"r\", encoding=\"utf-8\") as f:\n",
    "    label_map = json.load(f)\n",
    "with open(\"../models/class_names_en.json\", \"r\", encoding=\"utf-8\") as f:\n",
    "    class_names_en = json.load(f)"
   ]
  },
  {
   "cell_type": "code",
   "execution_count": 16,
   "id": "90d85cd4-5260-4523-8d9c-6c5e2575354b",
   "metadata": {},
   "outputs": [
    {
     "name": "stdout",
     "output_type": "stream",
     "text": [
      "Done!!\n"
     ]
    }
   ],
   "source": [
    "folder_path = r\"D:\\ocr_project\\notebooks\\runs\\detect\\predict\\crops\"\n",
    "output_file = r\"D:\\ocr_project\\notebooks\\runs\\detect\\predict\\predictions.txt\"\n",
    "\n",
    "with open(output_file, \"w\", encoding=\"utf-8\") as f:\n",
    "    for root, dirs, files in os.walk(folder_path):\n",
    "        for img_name in files:\n",
    "            if not img_name.lower().endswith(('.png', '.jpg', '.jpeg')):\n",
    "                continue\n",
    "\n",
    "            img_path = os.path.join(root, img_name)\n",
    "\n",
    "            img = image.load_img(img_path, target_size=(64,64))\n",
    "            img_array = image.img_to_array(img)\n",
    "            img_array = np.expand_dims(img_array, axis=0)\n",
    "            img_array = img_array / 255.0\n",
    "\n",
    "            predictions = model.predict(img_array, verbose=0)\n",
    "            predicted_label = np.argmax(predictions, axis=1)[0]\n",
    "\n",
    "            en_label = class_names_en[predicted_label]\n",
    "            ar_label = label_map.get(en_label, en_label)\n",
    "\n",
    "            \n",
    "            rel_path = os.path.relpath(img_path, folder_path)\n",
    "            f.write(f\"{rel_path}: {ar_label}\\n\")\n",
    "\n",
    "print(\"Done!!\")"
   ]
  },
  {
   "cell_type": "code",
   "execution_count": null,
   "id": "565288f2-5a94-46b9-be61-3efc970550d4",
   "metadata": {},
   "outputs": [],
   "source": []
  }
 ],
 "metadata": {
  "kernelspec": {
   "display_name": "Python 3 (ipykernel)",
   "language": "python",
   "name": "python3"
  },
  "language_info": {
   "codemirror_mode": {
    "name": "ipython",
    "version": 3
   },
   "file_extension": ".py",
   "mimetype": "text/x-python",
   "name": "python",
   "nbconvert_exporter": "python",
   "pygments_lexer": "ipython3",
   "version": "3.13.5"
  }
 },
 "nbformat": 4,
 "nbformat_minor": 5
}
